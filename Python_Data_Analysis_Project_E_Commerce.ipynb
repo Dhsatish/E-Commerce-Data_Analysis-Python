{
 "cells": [
  {
   "cell_type": "markdown",
   "id": "bb61bb45-6dc2-485f-98ae-6d69230f4c96",
   "metadata": {},
   "source": [
    "# Importing all the neccessary libraries"
   ]
  },
  {
   "cell_type": "code",
   "execution_count": 56,
   "id": "9f9ba2bc-fefa-48d6-90dd-eb898d7bdca8",
   "metadata": {},
   "outputs": [],
   "source": [
    "import pandas as pd\n",
    "import numpy as np\n",
    "import matplotlib.pyplot as plt\n",
    "import seaborn as sns"
   ]
  },
  {
   "cell_type": "markdown",
   "id": "85956fcb-0eb5-4f8a-a841-b3ed1cf8f55c",
   "metadata": {},
   "source": [
    "# loading the data set"
   ]
  },
  {
   "cell_type": "code",
   "execution_count": 57,
   "id": "9708dead-1d93-45eb-8316-72053f5f6c12",
   "metadata": {},
   "outputs": [
    {
     "data": {
      "text/html": [
       "<div>\n",
       "<style scoped>\n",
       "    .dataframe tbody tr th:only-of-type {\n",
       "        vertical-align: middle;\n",
       "    }\n",
       "\n",
       "    .dataframe tbody tr th {\n",
       "        vertical-align: top;\n",
       "    }\n",
       "\n",
       "    .dataframe thead th {\n",
       "        text-align: right;\n",
       "    }\n",
       "</style>\n",
       "<table border=\"1\" class=\"dataframe\">\n",
       "  <thead>\n",
       "    <tr style=\"text-align: right;\">\n",
       "      <th></th>\n",
       "      <th>InvoiceNo</th>\n",
       "      <th>StockCode</th>\n",
       "      <th>Description</th>\n",
       "      <th>Quantity</th>\n",
       "      <th>InvoiceDate</th>\n",
       "      <th>UnitPrice</th>\n",
       "      <th>CustomerID</th>\n",
       "      <th>Country</th>\n",
       "    </tr>\n",
       "  </thead>\n",
       "  <tbody>\n",
       "    <tr>\n",
       "      <th>0</th>\n",
       "      <td>536365</td>\n",
       "      <td>85123A</td>\n",
       "      <td>WHITE HANGING HEART T-LIGHT HOLDER</td>\n",
       "      <td>6</td>\n",
       "      <td>12/1/2010 8:26</td>\n",
       "      <td>2.55</td>\n",
       "      <td>17850.0</td>\n",
       "      <td>United Kingdom</td>\n",
       "    </tr>\n",
       "    <tr>\n",
       "      <th>1</th>\n",
       "      <td>536365</td>\n",
       "      <td>71053</td>\n",
       "      <td>WHITE METAL LANTERN</td>\n",
       "      <td>6</td>\n",
       "      <td>12/1/2010 8:26</td>\n",
       "      <td>3.39</td>\n",
       "      <td>17850.0</td>\n",
       "      <td>United Kingdom</td>\n",
       "    </tr>\n",
       "    <tr>\n",
       "      <th>2</th>\n",
       "      <td>536365</td>\n",
       "      <td>84406B</td>\n",
       "      <td>CREAM CUPID HEARTS COAT HANGER</td>\n",
       "      <td>8</td>\n",
       "      <td>12/1/2010 8:26</td>\n",
       "      <td>2.75</td>\n",
       "      <td>17850.0</td>\n",
       "      <td>United Kingdom</td>\n",
       "    </tr>\n",
       "    <tr>\n",
       "      <th>3</th>\n",
       "      <td>536365</td>\n",
       "      <td>84029G</td>\n",
       "      <td>KNITTED UNION FLAG HOT WATER BOTTLE</td>\n",
       "      <td>6</td>\n",
       "      <td>12/1/2010 8:26</td>\n",
       "      <td>3.39</td>\n",
       "      <td>17850.0</td>\n",
       "      <td>United Kingdom</td>\n",
       "    </tr>\n",
       "    <tr>\n",
       "      <th>4</th>\n",
       "      <td>536365</td>\n",
       "      <td>84029E</td>\n",
       "      <td>RED WOOLLY HOTTIE WHITE HEART.</td>\n",
       "      <td>6</td>\n",
       "      <td>12/1/2010 8:26</td>\n",
       "      <td>3.39</td>\n",
       "      <td>17850.0</td>\n",
       "      <td>United Kingdom</td>\n",
       "    </tr>\n",
       "    <tr>\n",
       "      <th>...</th>\n",
       "      <td>...</td>\n",
       "      <td>...</td>\n",
       "      <td>...</td>\n",
       "      <td>...</td>\n",
       "      <td>...</td>\n",
       "      <td>...</td>\n",
       "      <td>...</td>\n",
       "      <td>...</td>\n",
       "    </tr>\n",
       "    <tr>\n",
       "      <th>541904</th>\n",
       "      <td>581587</td>\n",
       "      <td>22613</td>\n",
       "      <td>PACK OF 20 SPACEBOY NAPKINS</td>\n",
       "      <td>12</td>\n",
       "      <td>12/9/2011 12:50</td>\n",
       "      <td>0.85</td>\n",
       "      <td>12680.0</td>\n",
       "      <td>France</td>\n",
       "    </tr>\n",
       "    <tr>\n",
       "      <th>541905</th>\n",
       "      <td>581587</td>\n",
       "      <td>22899</td>\n",
       "      <td>CHILDREN'S APRON DOLLY GIRL</td>\n",
       "      <td>6</td>\n",
       "      <td>12/9/2011 12:50</td>\n",
       "      <td>2.10</td>\n",
       "      <td>12680.0</td>\n",
       "      <td>France</td>\n",
       "    </tr>\n",
       "    <tr>\n",
       "      <th>541906</th>\n",
       "      <td>581587</td>\n",
       "      <td>23254</td>\n",
       "      <td>CHILDRENS CUTLERY DOLLY GIRL</td>\n",
       "      <td>4</td>\n",
       "      <td>12/9/2011 12:50</td>\n",
       "      <td>4.15</td>\n",
       "      <td>12680.0</td>\n",
       "      <td>France</td>\n",
       "    </tr>\n",
       "    <tr>\n",
       "      <th>541907</th>\n",
       "      <td>581587</td>\n",
       "      <td>23255</td>\n",
       "      <td>CHILDRENS CUTLERY CIRCUS PARADE</td>\n",
       "      <td>4</td>\n",
       "      <td>12/9/2011 12:50</td>\n",
       "      <td>4.15</td>\n",
       "      <td>12680.0</td>\n",
       "      <td>France</td>\n",
       "    </tr>\n",
       "    <tr>\n",
       "      <th>541908</th>\n",
       "      <td>581587</td>\n",
       "      <td>22138</td>\n",
       "      <td>BAKING SET 9 PIECE RETROSPOT</td>\n",
       "      <td>3</td>\n",
       "      <td>12/9/2011 12:50</td>\n",
       "      <td>4.95</td>\n",
       "      <td>12680.0</td>\n",
       "      <td>France</td>\n",
       "    </tr>\n",
       "  </tbody>\n",
       "</table>\n",
       "<p>541909 rows × 8 columns</p>\n",
       "</div>"
      ],
      "text/plain": [
       "       InvoiceNo StockCode                          Description  Quantity  \\\n",
       "0         536365    85123A   WHITE HANGING HEART T-LIGHT HOLDER         6   \n",
       "1         536365     71053                  WHITE METAL LANTERN         6   \n",
       "2         536365    84406B       CREAM CUPID HEARTS COAT HANGER         8   \n",
       "3         536365    84029G  KNITTED UNION FLAG HOT WATER BOTTLE         6   \n",
       "4         536365    84029E       RED WOOLLY HOTTIE WHITE HEART.         6   \n",
       "...          ...       ...                                  ...       ...   \n",
       "541904    581587     22613          PACK OF 20 SPACEBOY NAPKINS        12   \n",
       "541905    581587     22899         CHILDREN'S APRON DOLLY GIRL          6   \n",
       "541906    581587     23254        CHILDRENS CUTLERY DOLLY GIRL          4   \n",
       "541907    581587     23255      CHILDRENS CUTLERY CIRCUS PARADE         4   \n",
       "541908    581587     22138        BAKING SET 9 PIECE RETROSPOT          3   \n",
       "\n",
       "            InvoiceDate  UnitPrice  CustomerID         Country  \n",
       "0        12/1/2010 8:26       2.55     17850.0  United Kingdom  \n",
       "1        12/1/2010 8:26       3.39     17850.0  United Kingdom  \n",
       "2        12/1/2010 8:26       2.75     17850.0  United Kingdom  \n",
       "3        12/1/2010 8:26       3.39     17850.0  United Kingdom  \n",
       "4        12/1/2010 8:26       3.39     17850.0  United Kingdom  \n",
       "...                 ...        ...         ...             ...  \n",
       "541904  12/9/2011 12:50       0.85     12680.0          France  \n",
       "541905  12/9/2011 12:50       2.10     12680.0          France  \n",
       "541906  12/9/2011 12:50       4.15     12680.0          France  \n",
       "541907  12/9/2011 12:50       4.15     12680.0          France  \n",
       "541908  12/9/2011 12:50       4.95     12680.0          France  \n",
       "\n",
       "[541909 rows x 8 columns]"
      ]
     },
     "execution_count": 57,
     "metadata": {},
     "output_type": "execute_result"
    }
   ],
   "source": [
    "df = pd.read_csv('data.csv', encoding='ISO-8859-1')\n",
    "df"
   ]
  },
  {
   "cell_type": "markdown",
   "id": "3d7736a3-e2bd-4376-b5ad-f815ed2fcac6",
   "metadata": {},
   "source": [
    "# Understanding the dataset"
   ]
  },
  {
   "cell_type": "code",
   "execution_count": 58,
   "id": "dde114c7-7dd2-4ed4-9f09-a54727f292ad",
   "metadata": {},
   "outputs": [
    {
     "data": {
      "text/html": [
       "<div>\n",
       "<style scoped>\n",
       "    .dataframe tbody tr th:only-of-type {\n",
       "        vertical-align: middle;\n",
       "    }\n",
       "\n",
       "    .dataframe tbody tr th {\n",
       "        vertical-align: top;\n",
       "    }\n",
       "\n",
       "    .dataframe thead th {\n",
       "        text-align: right;\n",
       "    }\n",
       "</style>\n",
       "<table border=\"1\" class=\"dataframe\">\n",
       "  <thead>\n",
       "    <tr style=\"text-align: right;\">\n",
       "      <th></th>\n",
       "      <th>InvoiceNo</th>\n",
       "      <th>StockCode</th>\n",
       "      <th>Description</th>\n",
       "      <th>Quantity</th>\n",
       "      <th>InvoiceDate</th>\n",
       "      <th>UnitPrice</th>\n",
       "      <th>CustomerID</th>\n",
       "      <th>Country</th>\n",
       "    </tr>\n",
       "  </thead>\n",
       "  <tbody>\n",
       "    <tr>\n",
       "      <th>0</th>\n",
       "      <td>536365</td>\n",
       "      <td>85123A</td>\n",
       "      <td>WHITE HANGING HEART T-LIGHT HOLDER</td>\n",
       "      <td>6</td>\n",
       "      <td>12/1/2010 8:26</td>\n",
       "      <td>2.55</td>\n",
       "      <td>17850.0</td>\n",
       "      <td>United Kingdom</td>\n",
       "    </tr>\n",
       "    <tr>\n",
       "      <th>1</th>\n",
       "      <td>536365</td>\n",
       "      <td>71053</td>\n",
       "      <td>WHITE METAL LANTERN</td>\n",
       "      <td>6</td>\n",
       "      <td>12/1/2010 8:26</td>\n",
       "      <td>3.39</td>\n",
       "      <td>17850.0</td>\n",
       "      <td>United Kingdom</td>\n",
       "    </tr>\n",
       "    <tr>\n",
       "      <th>2</th>\n",
       "      <td>536365</td>\n",
       "      <td>84406B</td>\n",
       "      <td>CREAM CUPID HEARTS COAT HANGER</td>\n",
       "      <td>8</td>\n",
       "      <td>12/1/2010 8:26</td>\n",
       "      <td>2.75</td>\n",
       "      <td>17850.0</td>\n",
       "      <td>United Kingdom</td>\n",
       "    </tr>\n",
       "    <tr>\n",
       "      <th>3</th>\n",
       "      <td>536365</td>\n",
       "      <td>84029G</td>\n",
       "      <td>KNITTED UNION FLAG HOT WATER BOTTLE</td>\n",
       "      <td>6</td>\n",
       "      <td>12/1/2010 8:26</td>\n",
       "      <td>3.39</td>\n",
       "      <td>17850.0</td>\n",
       "      <td>United Kingdom</td>\n",
       "    </tr>\n",
       "    <tr>\n",
       "      <th>4</th>\n",
       "      <td>536365</td>\n",
       "      <td>84029E</td>\n",
       "      <td>RED WOOLLY HOTTIE WHITE HEART.</td>\n",
       "      <td>6</td>\n",
       "      <td>12/1/2010 8:26</td>\n",
       "      <td>3.39</td>\n",
       "      <td>17850.0</td>\n",
       "      <td>United Kingdom</td>\n",
       "    </tr>\n",
       "  </tbody>\n",
       "</table>\n",
       "</div>"
      ],
      "text/plain": [
       "  InvoiceNo StockCode                          Description  Quantity  \\\n",
       "0    536365    85123A   WHITE HANGING HEART T-LIGHT HOLDER         6   \n",
       "1    536365     71053                  WHITE METAL LANTERN         6   \n",
       "2    536365    84406B       CREAM CUPID HEARTS COAT HANGER         8   \n",
       "3    536365    84029G  KNITTED UNION FLAG HOT WATER BOTTLE         6   \n",
       "4    536365    84029E       RED WOOLLY HOTTIE WHITE HEART.         6   \n",
       "\n",
       "      InvoiceDate  UnitPrice  CustomerID         Country  \n",
       "0  12/1/2010 8:26       2.55     17850.0  United Kingdom  \n",
       "1  12/1/2010 8:26       3.39     17850.0  United Kingdom  \n",
       "2  12/1/2010 8:26       2.75     17850.0  United Kingdom  \n",
       "3  12/1/2010 8:26       3.39     17850.0  United Kingdom  \n",
       "4  12/1/2010 8:26       3.39     17850.0  United Kingdom  "
      ]
     },
     "execution_count": 58,
     "metadata": {},
     "output_type": "execute_result"
    }
   ],
   "source": [
    "df.head()"
   ]
  },
  {
   "cell_type": "code",
   "execution_count": 59,
   "id": "f7a05fd7-6814-4b72-acfb-8bb204f8f32e",
   "metadata": {},
   "outputs": [
    {
     "data": {
      "text/plain": [
       "Index(['InvoiceNo', 'StockCode', 'Description', 'Quantity', 'InvoiceDate',\n",
       "       'UnitPrice', 'CustomerID', 'Country'],\n",
       "      dtype='object')"
      ]
     },
     "execution_count": 59,
     "metadata": {},
     "output_type": "execute_result"
    }
   ],
   "source": [
    "df.columns"
   ]
  },
  {
   "cell_type": "code",
   "execution_count": 60,
   "id": "a5fc7ba7-e4e3-4525-b887-fb85c2ea90eb",
   "metadata": {},
   "outputs": [
    {
     "name": "stdout",
     "output_type": "stream",
     "text": [
      "<class 'pandas.core.frame.DataFrame'>\n",
      "RangeIndex: 541909 entries, 0 to 541908\n",
      "Data columns (total 8 columns):\n",
      " #   Column       Non-Null Count   Dtype  \n",
      "---  ------       --------------   -----  \n",
      " 0   InvoiceNo    541909 non-null  object \n",
      " 1   StockCode    541909 non-null  object \n",
      " 2   Description  540455 non-null  object \n",
      " 3   Quantity     541909 non-null  int64  \n",
      " 4   InvoiceDate  541909 non-null  object \n",
      " 5   UnitPrice    541909 non-null  float64\n",
      " 6   CustomerID   406829 non-null  float64\n",
      " 7   Country      541909 non-null  object \n",
      "dtypes: float64(2), int64(1), object(5)\n",
      "memory usage: 33.1+ MB\n"
     ]
    }
   ],
   "source": [
    "df.info()"
   ]
  },
  {
   "cell_type": "code",
   "execution_count": 61,
   "id": "a8a3db57-099d-4c3c-938b-74271a8733ee",
   "metadata": {},
   "outputs": [
    {
     "data": {
      "text/html": [
       "<div>\n",
       "<style scoped>\n",
       "    .dataframe tbody tr th:only-of-type {\n",
       "        vertical-align: middle;\n",
       "    }\n",
       "\n",
       "    .dataframe tbody tr th {\n",
       "        vertical-align: top;\n",
       "    }\n",
       "\n",
       "    .dataframe thead th {\n",
       "        text-align: right;\n",
       "    }\n",
       "</style>\n",
       "<table border=\"1\" class=\"dataframe\">\n",
       "  <thead>\n",
       "    <tr style=\"text-align: right;\">\n",
       "      <th></th>\n",
       "      <th>Quantity</th>\n",
       "      <th>UnitPrice</th>\n",
       "      <th>CustomerID</th>\n",
       "    </tr>\n",
       "  </thead>\n",
       "  <tbody>\n",
       "    <tr>\n",
       "      <th>count</th>\n",
       "      <td>541909.000000</td>\n",
       "      <td>541909.000000</td>\n",
       "      <td>406829.000000</td>\n",
       "    </tr>\n",
       "    <tr>\n",
       "      <th>mean</th>\n",
       "      <td>9.552250</td>\n",
       "      <td>4.611114</td>\n",
       "      <td>15287.690570</td>\n",
       "    </tr>\n",
       "    <tr>\n",
       "      <th>std</th>\n",
       "      <td>218.081158</td>\n",
       "      <td>96.759853</td>\n",
       "      <td>1713.600303</td>\n",
       "    </tr>\n",
       "    <tr>\n",
       "      <th>min</th>\n",
       "      <td>-80995.000000</td>\n",
       "      <td>-11062.060000</td>\n",
       "      <td>12346.000000</td>\n",
       "    </tr>\n",
       "    <tr>\n",
       "      <th>25%</th>\n",
       "      <td>1.000000</td>\n",
       "      <td>1.250000</td>\n",
       "      <td>13953.000000</td>\n",
       "    </tr>\n",
       "    <tr>\n",
       "      <th>50%</th>\n",
       "      <td>3.000000</td>\n",
       "      <td>2.080000</td>\n",
       "      <td>15152.000000</td>\n",
       "    </tr>\n",
       "    <tr>\n",
       "      <th>75%</th>\n",
       "      <td>10.000000</td>\n",
       "      <td>4.130000</td>\n",
       "      <td>16791.000000</td>\n",
       "    </tr>\n",
       "    <tr>\n",
       "      <th>max</th>\n",
       "      <td>80995.000000</td>\n",
       "      <td>38970.000000</td>\n",
       "      <td>18287.000000</td>\n",
       "    </tr>\n",
       "  </tbody>\n",
       "</table>\n",
       "</div>"
      ],
      "text/plain": [
       "            Quantity      UnitPrice     CustomerID\n",
       "count  541909.000000  541909.000000  406829.000000\n",
       "mean        9.552250       4.611114   15287.690570\n",
       "std       218.081158      96.759853    1713.600303\n",
       "min    -80995.000000  -11062.060000   12346.000000\n",
       "25%         1.000000       1.250000   13953.000000\n",
       "50%         3.000000       2.080000   15152.000000\n",
       "75%        10.000000       4.130000   16791.000000\n",
       "max     80995.000000   38970.000000   18287.000000"
      ]
     },
     "execution_count": 61,
     "metadata": {},
     "output_type": "execute_result"
    }
   ],
   "source": [
    "df.describe()"
   ]
  },
  {
   "cell_type": "markdown",
   "id": "c8e094fb-f551-426a-9bab-ec5a0cdad26a",
   "metadata": {},
   "source": [
    "# Finding the null values"
   ]
  },
  {
   "cell_type": "code",
   "execution_count": 62,
   "id": "d878097a-40ec-482d-ac4b-65b54f543e22",
   "metadata": {},
   "outputs": [
    {
     "data": {
      "text/plain": [
       "InvoiceNo           0\n",
       "StockCode           0\n",
       "Description      1454\n",
       "Quantity            0\n",
       "InvoiceDate         0\n",
       "UnitPrice           0\n",
       "CustomerID     135080\n",
       "Country             0\n",
       "dtype: int64"
      ]
     },
     "execution_count": 62,
     "metadata": {},
     "output_type": "execute_result"
    }
   ],
   "source": [
    "df.isnull().sum()"
   ]
  },
  {
   "cell_type": "markdown",
   "id": "e425dcf4-7b5c-48a7-a3d6-51da2ed1895b",
   "metadata": {},
   "source": [
    "--> We can see that columns Description, CustomerID are having null values"
   ]
  },
  {
   "cell_type": "code",
   "execution_count": 63,
   "id": "c70f4b2a-e487-4db6-92b2-4b423eafad88",
   "metadata": {},
   "outputs": [
    {
     "data": {
      "text/html": [
       "<div>\n",
       "<style scoped>\n",
       "    .dataframe tbody tr th:only-of-type {\n",
       "        vertical-align: middle;\n",
       "    }\n",
       "\n",
       "    .dataframe tbody tr th {\n",
       "        vertical-align: top;\n",
       "    }\n",
       "\n",
       "    .dataframe thead th {\n",
       "        text-align: right;\n",
       "    }\n",
       "</style>\n",
       "<table border=\"1\" class=\"dataframe\">\n",
       "  <thead>\n",
       "    <tr style=\"text-align: right;\">\n",
       "      <th></th>\n",
       "      <th>InvoiceNo</th>\n",
       "      <th>StockCode</th>\n",
       "      <th>Description</th>\n",
       "      <th>Quantity</th>\n",
       "      <th>InvoiceDate</th>\n",
       "      <th>UnitPrice</th>\n",
       "      <th>CustomerID</th>\n",
       "      <th>Country</th>\n",
       "    </tr>\n",
       "  </thead>\n",
       "  <tbody>\n",
       "    <tr>\n",
       "      <th>517</th>\n",
       "      <td>536409</td>\n",
       "      <td>21866</td>\n",
       "      <td>UNION JACK FLAG LUGGAGE TAG</td>\n",
       "      <td>1</td>\n",
       "      <td>12/1/2010 11:45</td>\n",
       "      <td>1.25</td>\n",
       "      <td>17908.0</td>\n",
       "      <td>United Kingdom</td>\n",
       "    </tr>\n",
       "    <tr>\n",
       "      <th>527</th>\n",
       "      <td>536409</td>\n",
       "      <td>22866</td>\n",
       "      <td>HAND WARMER SCOTTY DOG DESIGN</td>\n",
       "      <td>1</td>\n",
       "      <td>12/1/2010 11:45</td>\n",
       "      <td>2.10</td>\n",
       "      <td>17908.0</td>\n",
       "      <td>United Kingdom</td>\n",
       "    </tr>\n",
       "    <tr>\n",
       "      <th>537</th>\n",
       "      <td>536409</td>\n",
       "      <td>22900</td>\n",
       "      <td>SET 2 TEA TOWELS I LOVE LONDON</td>\n",
       "      <td>1</td>\n",
       "      <td>12/1/2010 11:45</td>\n",
       "      <td>2.95</td>\n",
       "      <td>17908.0</td>\n",
       "      <td>United Kingdom</td>\n",
       "    </tr>\n",
       "    <tr>\n",
       "      <th>539</th>\n",
       "      <td>536409</td>\n",
       "      <td>22111</td>\n",
       "      <td>SCOTTIE DOG HOT WATER BOTTLE</td>\n",
       "      <td>1</td>\n",
       "      <td>12/1/2010 11:45</td>\n",
       "      <td>4.95</td>\n",
       "      <td>17908.0</td>\n",
       "      <td>United Kingdom</td>\n",
       "    </tr>\n",
       "    <tr>\n",
       "      <th>555</th>\n",
       "      <td>536412</td>\n",
       "      <td>22327</td>\n",
       "      <td>ROUND SNACK BOXES SET OF 4 SKULLS</td>\n",
       "      <td>1</td>\n",
       "      <td>12/1/2010 11:49</td>\n",
       "      <td>2.95</td>\n",
       "      <td>17920.0</td>\n",
       "      <td>United Kingdom</td>\n",
       "    </tr>\n",
       "    <tr>\n",
       "      <th>...</th>\n",
       "      <td>...</td>\n",
       "      <td>...</td>\n",
       "      <td>...</td>\n",
       "      <td>...</td>\n",
       "      <td>...</td>\n",
       "      <td>...</td>\n",
       "      <td>...</td>\n",
       "      <td>...</td>\n",
       "    </tr>\n",
       "    <tr>\n",
       "      <th>541675</th>\n",
       "      <td>581538</td>\n",
       "      <td>22068</td>\n",
       "      <td>BLACK PIRATE TREASURE CHEST</td>\n",
       "      <td>1</td>\n",
       "      <td>12/9/2011 11:34</td>\n",
       "      <td>0.39</td>\n",
       "      <td>14446.0</td>\n",
       "      <td>United Kingdom</td>\n",
       "    </tr>\n",
       "    <tr>\n",
       "      <th>541689</th>\n",
       "      <td>581538</td>\n",
       "      <td>23318</td>\n",
       "      <td>BOX OF 6 MINI VINTAGE CRACKERS</td>\n",
       "      <td>1</td>\n",
       "      <td>12/9/2011 11:34</td>\n",
       "      <td>2.49</td>\n",
       "      <td>14446.0</td>\n",
       "      <td>United Kingdom</td>\n",
       "    </tr>\n",
       "    <tr>\n",
       "      <th>541692</th>\n",
       "      <td>581538</td>\n",
       "      <td>22992</td>\n",
       "      <td>REVOLVER WOODEN RULER</td>\n",
       "      <td>1</td>\n",
       "      <td>12/9/2011 11:34</td>\n",
       "      <td>1.95</td>\n",
       "      <td>14446.0</td>\n",
       "      <td>United Kingdom</td>\n",
       "    </tr>\n",
       "    <tr>\n",
       "      <th>541699</th>\n",
       "      <td>581538</td>\n",
       "      <td>22694</td>\n",
       "      <td>WICKER STAR</td>\n",
       "      <td>1</td>\n",
       "      <td>12/9/2011 11:34</td>\n",
       "      <td>2.10</td>\n",
       "      <td>14446.0</td>\n",
       "      <td>United Kingdom</td>\n",
       "    </tr>\n",
       "    <tr>\n",
       "      <th>541701</th>\n",
       "      <td>581538</td>\n",
       "      <td>23343</td>\n",
       "      <td>JUMBO BAG VINTAGE CHRISTMAS</td>\n",
       "      <td>1</td>\n",
       "      <td>12/9/2011 11:34</td>\n",
       "      <td>2.08</td>\n",
       "      <td>14446.0</td>\n",
       "      <td>United Kingdom</td>\n",
       "    </tr>\n",
       "  </tbody>\n",
       "</table>\n",
       "<p>5268 rows × 8 columns</p>\n",
       "</div>"
      ],
      "text/plain": [
       "       InvoiceNo StockCode                        Description  Quantity  \\\n",
       "517       536409     21866        UNION JACK FLAG LUGGAGE TAG         1   \n",
       "527       536409     22866      HAND WARMER SCOTTY DOG DESIGN         1   \n",
       "537       536409     22900    SET 2 TEA TOWELS I LOVE LONDON          1   \n",
       "539       536409     22111       SCOTTIE DOG HOT WATER BOTTLE         1   \n",
       "555       536412     22327  ROUND SNACK BOXES SET OF 4 SKULLS         1   \n",
       "...          ...       ...                                ...       ...   \n",
       "541675    581538     22068        BLACK PIRATE TREASURE CHEST         1   \n",
       "541689    581538     23318     BOX OF 6 MINI VINTAGE CRACKERS         1   \n",
       "541692    581538     22992             REVOLVER WOODEN RULER          1   \n",
       "541699    581538     22694                       WICKER STAR          1   \n",
       "541701    581538     23343       JUMBO BAG VINTAGE CHRISTMAS          1   \n",
       "\n",
       "            InvoiceDate  UnitPrice  CustomerID         Country  \n",
       "517     12/1/2010 11:45       1.25     17908.0  United Kingdom  \n",
       "527     12/1/2010 11:45       2.10     17908.0  United Kingdom  \n",
       "537     12/1/2010 11:45       2.95     17908.0  United Kingdom  \n",
       "539     12/1/2010 11:45       4.95     17908.0  United Kingdom  \n",
       "555     12/1/2010 11:49       2.95     17920.0  United Kingdom  \n",
       "...                 ...        ...         ...             ...  \n",
       "541675  12/9/2011 11:34       0.39     14446.0  United Kingdom  \n",
       "541689  12/9/2011 11:34       2.49     14446.0  United Kingdom  \n",
       "541692  12/9/2011 11:34       1.95     14446.0  United Kingdom  \n",
       "541699  12/9/2011 11:34       2.10     14446.0  United Kingdom  \n",
       "541701  12/9/2011 11:34       2.08     14446.0  United Kingdom  \n",
       "\n",
       "[5268 rows x 8 columns]"
      ]
     },
     "execution_count": 63,
     "metadata": {},
     "output_type": "execute_result"
    }
   ],
   "source": [
    "df[df.duplicated()]"
   ]
  },
  {
   "cell_type": "markdown",
   "id": "0ed686b6-8684-4359-91f6-330f1792ac4d",
   "metadata": {},
   "source": [
    "--> there were 5286 duplicated columns"
   ]
  },
  {
   "cell_type": "markdown",
   "id": "9c160ef8-e132-4da5-8ef9-653a006affb3",
   "metadata": {},
   "source": [
    "# Data Cleaning & Manipulation"
   ]
  },
  {
   "cell_type": "markdown",
   "id": "c0cbe580-7042-4343-b510-c082ba3e3091",
   "metadata": {},
   "source": [
    "--> Dropping rows without CustomerID"
   ]
  },
  {
   "cell_type": "code",
   "execution_count": 64,
   "id": "b5f812e1-388e-4f41-9aa8-ac9cf0d186b7",
   "metadata": {},
   "outputs": [],
   "source": [
    "df_clean = df.dropna(subset = 'CustomerID').copy()"
   ]
  },
  {
   "cell_type": "markdown",
   "id": "6e27abfa-88e0-45ed-8ca9-87af60f8345a",
   "metadata": {},
   "source": [
    "--> Removing cancelled orders: In InvoiceNo starting with 'C'  are cancelled orders\n",
    "\n",
    "--> To avoid negative/returned transactions."
   ]
  },
  {
   "cell_type": "code",
   "execution_count": 65,
   "id": "994cd7fe-e135-4f98-8e67-46656369d48a",
   "metadata": {},
   "outputs": [],
   "source": [
    "df_clean = df_clean[~df_clean['InvoiceNo'].astype(str).str.startswith('C')]"
   ]
  },
  {
   "cell_type": "code",
   "execution_count": 66,
   "id": "e31f2132-99eb-4df6-aef3-db6cfeccb56f",
   "metadata": {},
   "outputs": [
    {
     "data": {
      "text/plain": [
       "InvoiceNo      0\n",
       "StockCode      0\n",
       "Description    0\n",
       "Quantity       0\n",
       "InvoiceDate    0\n",
       "UnitPrice      0\n",
       "CustomerID     0\n",
       "Country        0\n",
       "dtype: int64"
      ]
     },
     "execution_count": 66,
     "metadata": {},
     "output_type": "execute_result"
    }
   ],
   "source": [
    "df_clean.isnull().sum()"
   ]
  },
  {
   "cell_type": "markdown",
   "id": "416542ca-3f00-43c8-9fd3-ffea47ee93be",
   "metadata": {},
   "source": [
    "--> Converting InvoiceDate to datetime"
   ]
  },
  {
   "cell_type": "code",
   "execution_count": 67,
   "id": "3865144e-79a5-40d4-a258-2aeab0de9ef7",
   "metadata": {},
   "outputs": [],
   "source": [
    "df_clean['InvoiceDate'] = pd.to_datetime(df_clean['InvoiceDate'], errors='coerce')"
   ]
  },
  {
   "cell_type": "markdown",
   "id": "1fe0b7b6-6203-4a97-bafd-a044f4073e65",
   "metadata": {},
   "source": [
    "--> Converting to numeric columns"
   ]
  },
  {
   "cell_type": "code",
   "execution_count": 68,
   "id": "f180f5d5-5574-4fee-a300-e2ac50a4a559",
   "metadata": {},
   "outputs": [],
   "source": [
    "df_clean['Quantity'] = pd.to_numeric(df_clean['Quantity'], errors='coerce')\n",
    "df_clean['UnitPrice'] = pd.to_numeric(df_clean['UnitPrice'], errors='coerce')"
   ]
  },
  {
   "cell_type": "markdown",
   "id": "98fc1449-f089-440f-ae77-ee4ea640dbb1",
   "metadata": {},
   "source": [
    "--> Removing non-positive quantity and unit price if there are negative values"
   ]
  },
  {
   "cell_type": "code",
   "execution_count": 69,
   "id": "476a2305-b2e4-4474-87b2-1a075f49a279",
   "metadata": {},
   "outputs": [],
   "source": [
    "df_clean = df_clean[(df_clean['Quantity'] > 0) & (df_clean['UnitPrice'] > 0)]"
   ]
  },
  {
   "cell_type": "markdown",
   "id": "c9093c49-631d-462e-a9f9-0d0081f7b21a",
   "metadata": {},
   "source": [
    "--> Dropping any remaining rows with NaNs in key columns of our dataframe"
   ]
  },
  {
   "cell_type": "code",
   "execution_count": 70,
   "id": "23fecba9-d816-43f4-aaeb-0e0247b083ec",
   "metadata": {},
   "outputs": [],
   "source": [
    "df_clean = df_clean.dropna(subset=['InvoiceDate', 'Quantity', 'UnitPrice', 'CustomerID'])"
   ]
  },
  {
   "cell_type": "markdown",
   "id": "6a7261a7-052d-4009-96c9-149bcdee2a08",
   "metadata": {},
   "source": [
    "--> Creating TotalAmount column based on quantity and unitprice"
   ]
  },
  {
   "cell_type": "code",
   "execution_count": 71,
   "id": "60148815-c6d5-47ab-9ee6-21ccb7568b37",
   "metadata": {},
   "outputs": [],
   "source": [
    "df_clean['TotalAmount'] = df_clean['Quantity'] * df_clean['UnitPrice']"
   ]
  },
  {
   "cell_type": "markdown",
   "id": "31faed66-e4e4-4525-aa6e-4d4eefac72b6",
   "metadata": {},
   "source": [
    "--> Extracting month and year based on invoicedate column "
   ]
  },
  {
   "cell_type": "code",
   "execution_count": 72,
   "id": "95adbc96-9e52-478d-ac05-5cdbb5efea31",
   "metadata": {},
   "outputs": [],
   "source": [
    "df_clean['InvoiceMonth'] = df_clean['InvoiceDate'].dt.month\n",
    "df_clean['InvoiceYear'] = df_clean['InvoiceDate'].dt.year"
   ]
  },
  {
   "cell_type": "markdown",
   "id": "62a8e034-efe7-42f9-8293-824554a30ccb",
   "metadata": {},
   "source": [
    "--> Resetting the index"
   ]
  },
  {
   "cell_type": "code",
   "execution_count": 73,
   "id": "3a0baa38-7000-4806-a2ab-71ef639d0c35",
   "metadata": {},
   "outputs": [],
   "source": [
    "df_clean = df_clean.reset_index(drop=True)"
   ]
  },
  {
   "cell_type": "markdown",
   "id": "686f6731-feba-44cf-8b59-36cb1ba525c9",
   "metadata": {},
   "source": [
    "--> Saving our cleaned dataset into csv format"
   ]
  },
  {
   "cell_type": "code",
   "execution_count": 74,
   "id": "bb649825-be54-492e-b673-88ab64895f38",
   "metadata": {},
   "outputs": [],
   "source": [
    "df_clean.to_csv('cleaned_sales_data.csv', index=False)"
   ]
  },
  {
   "cell_type": "markdown",
   "id": "7b010d50-0fc8-4fe2-ad64-1266663dd384",
   "metadata": {},
   "source": [
    "# Exploratory Data Analysis"
   ]
  },
  {
   "cell_type": "markdown",
   "id": "734b0386-2b04-4168-862e-6fd579179f4c",
   "metadata": {},
   "source": [
    "--> Finding top 10 products by quantity sold"
   ]
  },
  {
   "cell_type": "code",
   "execution_count": 77,
   "id": "50bd1a63-5edd-40e8-9108-d73032cbb31e",
   "metadata": {},
   "outputs": [
    {
     "name": "stdout",
     "output_type": "stream",
     "text": [
      "Top 10 products by quantity:\n",
      " Description\n",
      "PAPER CRAFT , LITTLE BIRDIE           80995\n",
      "MEDIUM CERAMIC TOP STORAGE JAR        77916\n",
      "WORLD WAR 2 GLIDERS ASSTD DESIGNS     54415\n",
      "JUMBO BAG RED RETROSPOT               46181\n",
      "WHITE HANGING HEART T-LIGHT HOLDER    36725\n",
      "ASSORTED COLOUR BIRD ORNAMENT         35362\n",
      "PACK OF 72 RETROSPOT CAKE CASES       33693\n",
      "POPCORN HOLDER                        30931\n",
      "RABBIT NIGHT LIGHT                    27202\n",
      "MINI PAINT SET VINTAGE                26076\n",
      "Name: Quantity, dtype: int64\n"
     ]
    }
   ],
   "source": [
    "Top_products_qty = df_clean.groupby('Description')['Quantity'].sum().sort_values(ascending = False).head(10)\n",
    "print(\"Top 10 products by quantity:\\n\", Top_products_qty)"
   ]
  },
  {
   "cell_type": "markdown",
   "id": "cf7e67de-e71d-437c-9b1f-d9371bc6372b",
   "metadata": {},
   "source": [
    "--> Finding top countries by revenue"
   ]
  },
  {
   "cell_type": "code",
   "execution_count": 78,
   "id": "8b97ae34-41f2-40fc-954c-c54959f14efa",
   "metadata": {},
   "outputs": [
    {
     "name": "stdout",
     "output_type": "stream",
     "text": [
      "\n",
      "Top 5 countries by total revenue:\n",
      " Country\n",
      "United Kingdom    7308391.554\n",
      "Netherlands        285446.340\n",
      "EIRE               265545.900\n",
      "Germany            228867.140\n",
      "France             209024.050\n",
      "Name: TotalAmount, dtype: float64\n"
     ]
    }
   ],
   "source": [
    "top_countries_revenue = df_clean.groupby('Country')['TotalAmount'].sum().sort_values(ascending=False).head(5)\n",
    "print(\"\\nTop 5 countries by total revenue:\\n\", top_countries_revenue)"
   ]
  },
  {
   "cell_type": "markdown",
   "id": "9005f39a-127d-4378-b119-b962005341ea",
   "metadata": {},
   "source": [
    "--> Finding months with highest and lowest sales (across all years)"
   ]
  },
  {
   "cell_type": "code",
   "execution_count": 79,
   "id": "d335b804-97f0-4318-977f-ee3cd7b6a1a4",
   "metadata": {},
   "outputs": [
    {
     "name": "stderr",
     "output_type": "stream",
     "text": [
      "C:\\Users\\hemasatish\\AppData\\Local\\Temp\\ipykernel_8612\\64579949.py:1: FutureWarning: 'M' is deprecated and will be removed in a future version, please use 'ME' instead.\n",
      "  monthly_sales = df_clean.groupby(pd.Grouper(key='InvoiceDate', freq='M'))['TotalAmount'].sum().sort_values()\n"
     ]
    },
    {
     "data": {
      "text/plain": [
       "InvoiceDate\n",
       "2011-02-28     447137.350\n",
       "2011-04-30     469200.361\n",
       "2011-12-31     518192.790\n",
       "2011-01-31     569445.040\n",
       "2010-12-31     572713.890\n",
       "2011-03-31     595500.760\n",
       "2011-07-31     600091.011\n",
       "2011-08-31     645343.900\n",
       "2011-06-30     661213.690\n",
       "2011-05-31     678594.560\n",
       "2011-09-30     952838.382\n",
       "2011-10-31    1039318.790\n",
       "2011-11-30    1161817.380\n",
       "Name: TotalAmount, dtype: float64"
      ]
     },
     "execution_count": 79,
     "metadata": {},
     "output_type": "execute_result"
    }
   ],
   "source": [
    "monthly_sales = df_clean.groupby(pd.Grouper(key='InvoiceDate', freq='M'))['TotalAmount'].sum().sort_values()\n",
    "monthly_sales"
   ]
  },
  {
   "cell_type": "code",
   "execution_count": 85,
   "id": "5b081d0f-0309-4662-a88d-4ea59942b1be",
   "metadata": {},
   "outputs": [
    {
     "name": "stdout",
     "output_type": "stream",
     "text": [
      "\n",
      "Month with lowest sales: 2011-02 447137.35\n",
      "Month with highest sales: 2011-11 1161817.3800000001\n"
     ]
    }
   ],
   "source": [
    "print(\"\\nMonth with lowest sales:\", monthly_sales.index[0].strftime('%Y-%m'), monthly_sales.iloc[0])\n",
    "print(\"Month with highest sales:\", monthly_sales.index[-1].strftime('%Y-%m'), monthly_sales.iloc[-1])"
   ]
  },
  {
   "cell_type": "code",
   "execution_count": null,
   "id": "d532b670-5136-4818-a3e2-00ebfdacdb0f",
   "metadata": {},
   "outputs": [],
   "source": [
    "--> Finding most frequent customers (by number of invoices)"
   ]
  },
  {
   "cell_type": "code",
   "execution_count": 86,
   "id": "28e25edb-47d3-4758-ab4f-0567d965de5e",
   "metadata": {},
   "outputs": [
    {
     "name": "stdout",
     "output_type": "stream",
     "text": [
      "\n",
      "Top 10 customers by number of orders:\n",
      " CustomerID\n",
      "12748.0    209\n",
      "14911.0    201\n",
      "17841.0    124\n",
      "13089.0     97\n",
      "14606.0     93\n",
      "15311.0     91\n",
      "12971.0     86\n",
      "14646.0     73\n",
      "16029.0     63\n",
      "13408.0     62\n",
      "Name: InvoiceNo, dtype: int64\n"
     ]
    }
   ],
   "source": [
    "cust_freq = df_clean.groupby('CustomerID')['InvoiceNo'].nunique().sort_values(ascending=False).head(10)\n",
    "print(\"\\nTop 10 customers by number of orders:\\n\", cust_freq)"
   ]
  },
  {
   "cell_type": "markdown",
   "id": "ebe8b9f8-0314-4623-9cbe-abf42fc2030c",
   "metadata": {},
   "source": [
    "--> Finding average order value per country"
   ]
  },
  {
   "cell_type": "code",
   "execution_count": 90,
   "id": "812b9f71-aa3b-4155-a486-2c79f86fd1d3",
   "metadata": {},
   "outputs": [
    {
     "data": {
      "text/html": [
       "<div>\n",
       "<style scoped>\n",
       "    .dataframe tbody tr th:only-of-type {\n",
       "        vertical-align: middle;\n",
       "    }\n",
       "\n",
       "    .dataframe tbody tr th {\n",
       "        vertical-align: top;\n",
       "    }\n",
       "\n",
       "    .dataframe thead th {\n",
       "        text-align: right;\n",
       "    }\n",
       "</style>\n",
       "<table border=\"1\" class=\"dataframe\">\n",
       "  <thead>\n",
       "    <tr style=\"text-align: right;\">\n",
       "      <th></th>\n",
       "      <th>InvoiceNo</th>\n",
       "      <th>Country</th>\n",
       "      <th>TotalAmount</th>\n",
       "    </tr>\n",
       "  </thead>\n",
       "  <tbody>\n",
       "    <tr>\n",
       "      <th>0</th>\n",
       "      <td>536365</td>\n",
       "      <td>United Kingdom</td>\n",
       "      <td>139.12</td>\n",
       "    </tr>\n",
       "    <tr>\n",
       "      <th>1</th>\n",
       "      <td>536366</td>\n",
       "      <td>United Kingdom</td>\n",
       "      <td>22.20</td>\n",
       "    </tr>\n",
       "    <tr>\n",
       "      <th>2</th>\n",
       "      <td>536367</td>\n",
       "      <td>United Kingdom</td>\n",
       "      <td>278.73</td>\n",
       "    </tr>\n",
       "    <tr>\n",
       "      <th>3</th>\n",
       "      <td>536368</td>\n",
       "      <td>United Kingdom</td>\n",
       "      <td>70.05</td>\n",
       "    </tr>\n",
       "    <tr>\n",
       "      <th>4</th>\n",
       "      <td>536369</td>\n",
       "      <td>United Kingdom</td>\n",
       "      <td>17.85</td>\n",
       "    </tr>\n",
       "    <tr>\n",
       "      <th>...</th>\n",
       "      <td>...</td>\n",
       "      <td>...</td>\n",
       "      <td>...</td>\n",
       "    </tr>\n",
       "    <tr>\n",
       "      <th>18527</th>\n",
       "      <td>581583</td>\n",
       "      <td>United Kingdom</td>\n",
       "      <td>124.60</td>\n",
       "    </tr>\n",
       "    <tr>\n",
       "      <th>18528</th>\n",
       "      <td>581584</td>\n",
       "      <td>United Kingdom</td>\n",
       "      <td>140.64</td>\n",
       "    </tr>\n",
       "    <tr>\n",
       "      <th>18529</th>\n",
       "      <td>581585</td>\n",
       "      <td>United Kingdom</td>\n",
       "      <td>329.05</td>\n",
       "    </tr>\n",
       "    <tr>\n",
       "      <th>18530</th>\n",
       "      <td>581586</td>\n",
       "      <td>United Kingdom</td>\n",
       "      <td>339.20</td>\n",
       "    </tr>\n",
       "    <tr>\n",
       "      <th>18531</th>\n",
       "      <td>581587</td>\n",
       "      <td>France</td>\n",
       "      <td>249.45</td>\n",
       "    </tr>\n",
       "  </tbody>\n",
       "</table>\n",
       "<p>18532 rows × 3 columns</p>\n",
       "</div>"
      ],
      "text/plain": [
       "      InvoiceNo         Country  TotalAmount\n",
       "0        536365  United Kingdom       139.12\n",
       "1        536366  United Kingdom        22.20\n",
       "2        536367  United Kingdom       278.73\n",
       "3        536368  United Kingdom        70.05\n",
       "4        536369  United Kingdom        17.85\n",
       "...         ...             ...          ...\n",
       "18527    581583  United Kingdom       124.60\n",
       "18528    581584  United Kingdom       140.64\n",
       "18529    581585  United Kingdom       329.05\n",
       "18530    581586  United Kingdom       339.20\n",
       "18531    581587          France       249.45\n",
       "\n",
       "[18532 rows x 3 columns]"
      ]
     },
     "execution_count": 90,
     "metadata": {},
     "output_type": "execute_result"
    }
   ],
   "source": [
    "order_vals = df_clean.groupby(['InvoiceNo','Country'])['TotalAmount'].sum().reset_index()\n",
    "order_vals"
   ]
  },
  {
   "cell_type": "code",
   "execution_count": 91,
   "id": "e9a4a8bd-a2c7-45c7-9670-2d9cd8f0d28f",
   "metadata": {},
   "outputs": [
    {
     "name": "stdout",
     "output_type": "stream",
     "text": [
      "\n",
      "Average order value (top 10 countries):\n",
      " Country\n",
      "Singapore      3039.898571\n",
      "Netherlands    3036.663191\n",
      "Australia      2430.198421\n",
      "Japan          1969.282632\n",
      "Lebanon        1693.880000\n",
      "Israel         1444.338000\n",
      "Brazil         1143.600000\n",
      "Switzerland    1106.744118\n",
      "Sweden         1066.064722\n",
      "Denmark        1053.074444\n",
      "Name: TotalAmount, dtype: float64\n"
     ]
    }
   ],
   "source": [
    "avg_order_value_country = order_vals.groupby('Country')['TotalAmount'].mean().sort_values(ascending=False).head(10)\n",
    "print(\"\\nAverage order value (top 10 countries):\\n\", avg_order_value_country)"
   ]
  },
  {
   "cell_type": "markdown",
   "id": "bdb590fe-97f1-4462-be37-332d2b1b37ee",
   "metadata": {},
   "source": [
    "### Visualizations\n",
    "\n",
    "--> Finding trends of sales"
   ]
  },
  {
   "cell_type": "code",
   "execution_count": 98,
   "id": "5d422e19-35a5-447a-8ffa-eb782e127ef0",
   "metadata": {},
   "outputs": [],
   "source": [
    "plt.rcParams['figure.figsize'] = (8,6)\n",
    "sns.set_style('darkgrid')"
   ]
  },
  {
   "cell_type": "code",
   "execution_count": 99,
   "id": "461783cc-403c-445a-9cc0-b180239c9edf",
   "metadata": {},
   "outputs": [
    {
     "data": {
      "image/png": "[encoded data removed]",
      "text/plain": [
       "<Figure size 800x600 with 1 Axes>"
      ]
     },
     "metadata": {},
     "output_type": "display_data"
    }
   ],
   "source": [
    "monthly_sales.plot(title='Monthly Sales (TotalAmount)', legend=False)\n",
    "plt.ylabel('Total Sales')\n",
    "plt.show()"
   ]
  },
  {
   "cell_type": "markdown",
   "id": "d737195e-019d-4cd1-b450-090122400118",
   "metadata": {},
   "source": [
    "--> Top products (Bar chart)"
   ]
  },
  {
   "cell_type": "code",
   "execution_count": 101,
   "id": "caf52c31-a81a-408a-99d3-a31f85a17ee5",
   "metadata": {},
   "outputs": [
    {
     "data": {
      "image/png": "[encoded data removed]",
      "text/plain": [
       "<Figure size 800x600 with 1 Axes>"
      ]
     },
     "metadata": {},
     "output_type": "display_data"
    }
   ],
   "source": [
    "Top_products_qty.plot(kind='bar', title='Top 10 Products by Quantity Sold')\n",
    "plt.ylabel('Quantity Sold')\n",
    "plt.xticks(rotation=45, ha='right')\n",
    "plt.show()"
   ]
  },
  {
   "cell_type": "markdown",
   "id": "164e918f-261b-46a1-8ee5-3dec88ed9078",
   "metadata": {},
   "source": [
    "--> Heatmap for corelation of numeric features"
   ]
  },
  {
   "cell_type": "code",
   "execution_count": 118,
   "id": "836ca20a-603e-4698-ba6a-7dca02de04ef",
   "metadata": {},
   "outputs": [
    {
     "data": {
      "image/png": "[encoded data removed]",
      "text/plain": [
       "<Figure size 800x600 with 2 Axes>"
      ]
     },
     "metadata": {},
     "output_type": "display_data"
    }
   ],
   "source": [
    "numeric_cols = df_clean.select_dtypes(['int','float']).columns\n",
    "sns.heatmap(df_clean[numeric_cols].corr(), annot=True, fmt='.2f')\n",
    "plt.title('Correlation matrix')\n",
    "plt.show()"
   ]
  },
  {
   "cell_type": "markdown",
   "id": "690635b3-d99c-4707-ad24-878ffd456b7b",
   "metadata": {},
   "source": [
    "## Key Insights"
   ]
  },
  {
   "cell_type": "code",
   "execution_count": 122,
   "id": "15a23794-f4c4-492d-90c1-42ab7a7cab15",
   "metadata": {},
   "outputs": [],
   "source": [
    "total_sales = df_clean['TotalAmount'].sum()\n",
    "avg_order_value = df_clean.groupby('InvoiceNo')['TotalAmount'].sum().mean()\n",
    "unique_customers = df_clean['CustomerID'].nunique()\n",
    "top_region = df_clean.groupby('Country')['TotalAmount'].sum().head()"
   ]
  },
  {
   "cell_type": "code",
   "execution_count": 123,
   "id": "ecbb8d86-bfb0-42a9-811e-abf25eee1eee",
   "metadata": {},
   "outputs": [
    {
     "name": "stdout",
     "output_type": "stream",
     "text": [
      "Total Sales: 8911407.90\n",
      "Average Order Value: 480.87\n",
      "Unique Customers: 4338\n",
      "Top Country by Revenue: Country\n",
      "Australia    138521.31\n",
      "Austria       10198.68\n",
      "Bahrain         548.40\n",
      "Belgium       41196.34\n",
      "Brazil         1143.60\n",
      "Name: TotalAmount, dtype: float64\n"
     ]
    }
   ],
   "source": [
    "print(f\"Total Sales: {total_sales:.2f}\")\n",
    "print(f\"Average Order Value: {avg_order_value:.2f}\")\n",
    "print(f\"Unique Customers: {unique_customers}\")\n",
    "print(f\"Top Country by Revenue: {top_region}\")"
   ]
  },
  {
   "cell_type": "markdown",
   "id": "34385117-fd25-41b0-a539-3f32410a5a49",
   "metadata": {},
   "source": [
    "# Final Insights\n",
    "\n",
    "--> The top 10 products contribute a significant portion of total revenue and quantity sold.\n",
    "\n",
    "--> Low-selling products can be reviewed for potential discontinuation or replacement with better alternatives.\n",
    "\n",
    "--> Monthly sales fluctuate significantly, with peak sales during certain months (e.g., November–December) and dips during off-peak months.\n",
    "\n",
    "--> This insight can inform marketing campaigns, inventory stocking, and resource allocation for high-demand periods.\n",
    "\n",
    "--> Analyzing trends helps plan seasonal promotions to increase revenue in slow months\n",
    "\n",
    "--> Revenue is concentrated in a few countries (top 5 countries contribute majority of sales).\n",
    "\n",
    "--> Business can prioritize logistics, marketing, and product localization in these regions.\n",
    "\n",
    "--> Low-revenue regions may need market research or targeted campaigns to increase sales.\n",
    "\n",
    "--> Average order value helps in identifying high-value transactions and opportunities for upselling.\n",
    "\n",
    "--> High-frequency customers tend to purchase smaller or moderate order amounts, while top-spending customers may have infrequent but high-value orders.\n",
    "\n",
    "--> Discounts for regular customers (e.g., loyalty rewards, bulk discounts, cross-selling) can maximize revenue across different segments."
   ]
  },
  {
   "cell_type": "code",
   "execution_count": null,
   "id": "83c610f5-dfdd-4d8b-827a-fab48311a44b",
   "metadata": {},
   "outputs": [],
   "source": []
  }
 ],
 "metadata": {
  "kernelspec": {
   "display_name": "Python 3 (ipykernel)",
   "language": "python",
   "name": "python3"
  },
  "language_info": {
   "codemirror_mode": {
    "name": "ipython",
    "version": 3
   },
   "file_extension": ".py",
   "mimetype": "text/x-python",
   "name": "python",
   "nbconvert_exporter": "python",
   "pygments_lexer": "ipython3",
   "version": "3.12.7"
  }
 },
 "nbformat": 4,
 "nbformat_minor": 5
}
